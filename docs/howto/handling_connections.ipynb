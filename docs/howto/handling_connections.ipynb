{
 "cells": [
  {
   "cell_type": "markdown",
   "metadata": {},
   "source": [
    "# How to handle connections to devices"
   ]
  },
  {
   "cell_type": "markdown",
   "metadata": {},
   "source": [
    "## Specifying connection parameters\n",
    "\n",
    "By default, connections are handled automatically based on the information in the inventory.  \n",
    "Here is an example of `hosts.yaml` with simple and advanced connection details:"
   ]
  },
  {
   "cell_type": "code",
   "execution_count": 1,
   "metadata": {},
   "outputs": [
    {
     "data": {
      "text/markdown": [
       "```yaml\n",
       "---\n",
       "simple_host:\n",
       "    hostname: simple-host.my-lab.com\n",
       "    username: simple-user\n",
       "    password: simple-password\n",
       "    platform: cisco_ios\n",
       "\n",
       "advanced_host:\n",
       "    # standard parameters that will be re-used across different connections\n",
       "    username: my_user\n",
       "    password: my_password\n",
       "    platform: linux\n",
       "    napalm_options:\n",
       "        # standard parameters override upper level and will be used only for the napalm connection\n",
       "        # missing parameters are read from the top level\n",
       "        port: 443\n",
       "        platform: eos\n",
       "        connection_options:\n",
       "            # non-standard library-specific options supported by the backend library\n",
       "            optional_args:\n",
       "                eos_autoComplete: true\n",
       "    netmiko_options:\n",
       "        platform: arista_eos\n",
       "        connection_options:\n",
       "            global_delay: 2\n",
       "    netmiko_telnet_options: # non-default connection name\n",
       "        plugin: netmiko  # in this case plugin option is mandatory\n",
       "        # terminal server details\n",
       "        hostname: 1.2.3.4\n",
       "        port: 3001\n",
       "        platform: arista_eos_telnet\n",
       "```"
      ],
      "text/plain": [
       "<IPython.core.display.Markdown object>"
      ]
     },
     "metadata": {},
     "output_type": "display_data"
    }
   ],
   "source": [
    "%run handling_connections/example1/display_inventory.py"
   ]
  },
  {
   "cell_type": "markdown",
   "metadata": {},
   "source": [
    "There are 5 reserved variable names that are used by Nornir connection handling:\n",
    "- `hostname`: hostname or IP address\n",
    "- `username`\n",
    "- `password`\n",
    "- `port`: if not specified, the default port chosen by the backend library will be used\n",
    "- `platform`: a connection plugin passes this value with a key supported by the backend library. For example, `netmiko` library uses `device_type`, so netmiko connection plugin will use `platform` value as `device_type` in netmiko. Refer to the backend library documentation to specify this parameter correctly.\n",
    "\n",
    "You can specify these parameters on the host level, but you can also override default parameters on the connection level.  \n",
    "Let's consider `napalm_options`:  \n",
    "`platform` field was overwritten and is now `eos` instead of `linux`, and the `port` was specified too.  \n",
    "You can also specify non-standard library specific details under `connection_options`.  \n",
    "For example, during connection establishment NAPALM accept an argument `optional_args`, while `netmiko` accepts an extra option `global_delay`.\n",
    "\n",
    "The **key name** for the connection specific options is important. In this example, we have `napalm_options`, `netmiko_options`, `netmiko_telnet_options`.\n",
    "The format of this key is `<connection_name>_options`\n",
    "\n",
    "Let's consider the first two and we will get back to the third one in a minute.  \n",
    "At the moment of this writing, Nornir has 3 connection-oriented plugins:\n",
    "- **NAPALM** with the default connection name \"napalm\"\n",
    "- **Netmiko** with the default connection name \"netmiko\"\n",
    "- **Paramiko** with the default connection name \"paramiko\"\n",
    "\n",
    "The default \"registration\" can also be found in the file `nornir/plugins/connections/__init__.py`\n",
    "These are default connection names which are needed to be used in the inventory if you would like to load these options automatically during the corresponding task execution.  \n",
    "\n",
    "This means that you can have only **one** connection established per a **single** backend library. Most of the times it is enough, but there are situations when you may need to have multiple connections established using the same backend library.  \n",
    "For example, you would like to establish SSH and Telnet (via terminal server) connections using `netmiko` plugin.\n",
    "This is why you can specify **arbitrary** connection name as a key, for example `netmiko_telnet_options`. Because a non-default name for the connection is specified, there are 2 constraints:\n",
    "1. It is required to specify a plugin using the key `plugin`. For example, `plugin: netmiko`\n",
    "2. During the task execution you need to provide a new connection name using `conn_name` argument. For example: `conn_name=\"netmiko_telnet\"` (see an example below)"
   ]
  },
  {
   "cell_type": "markdown",
   "metadata": {},
   "source": [
    "Let's see how the connections are handled in the code, first automatically, then manually.  \n",
    "Here is the inventory used for the next examples:"
   ]
  },
  {
   "cell_type": "code",
   "execution_count": 2,
   "metadata": {},
   "outputs": [
    {
     "data": {
      "text/markdown": [
       "```yaml\n",
       "---\n",
       "rtr00:\n",
       "    platform: mock\n",
       "    napalm_options:  # uses plugin name \"napalm\" as a connection name\n",
       "        connection_options:\n",
       "            optional_args:\n",
       "                path: handling_connections/example2/mocked_data\n",
       "    secondary_options:  # uses non-default connection name \"secondary\"\n",
       "        plugin: napalm  # the name of a registered plugin is \"napalm\"\n",
       "        connection_options:\n",
       "            optional_args:\n",
       "                path: handling_connections/example2/mocked_data\n",
       "\n",
       "```"
      ],
      "text/plain": [
       "<IPython.core.display.Markdown object>"
      ]
     },
     "metadata": {},
     "output_type": "display_data"
    }
   ],
   "source": [
    "%run handling_connections/example2/display_inventory.py"
   ]
  },
  {
   "cell_type": "markdown",
   "metadata": {},
   "source": [
    "## Automatic connection handling"
   ]
  },
  {
   "cell_type": "code",
   "execution_count": 3,
   "metadata": {},
   "outputs": [],
   "source": [
    "from nornir.core import InitNornir\n",
    "from nornir.plugins.functions.text import print_result\n",
    "from nornir.plugins.tasks.networking import napalm_get"
   ]
  },
  {
   "cell_type": "code",
   "execution_count": 4,
   "metadata": {},
   "outputs": [
    {
     "name": "stdout",
     "output_type": "stream",
     "text": [
      "\u001b[1m\u001b[36mnapalm_get**********************************************************************\u001b[0m\n",
      "\u001b[0m\u001b[1m\u001b[34m* rtr00 ** changed : False *****************************************************\u001b[0m\n",
      "\u001b[0m\u001b[1m\u001b[32mvvvv napalm_get ** changed : False vvvvvvvvvvvvvvvvvvvvvvvvvvvvvvvvvvvvvvvvvvvvv INFO\u001b[0m\n",
      "\u001b[0m{\u001b[0m \u001b[0m'facts'\u001b[0m: \u001b[0m{\u001b[0m \u001b[0m'fqdn'\u001b[0m: \u001b[0m'localhost'\u001b[0m,\n",
      "             \u001b[0m'hostname'\u001b[0m: \u001b[0m'localhost'\u001b[0m,\n",
      "             \u001b[0m'interface_list'\u001b[0m: \u001b[0m[\u001b[0m \u001b[0m\u001b[0m'Ethernet1'\u001b[0m,\n",
      "                                 \u001b[0m'Ethernet2'\u001b[0m,\n",
      "                                 \u001b[0m'Ethernet3'\u001b[0m,\n",
      "                                 \u001b[0m'Ethernet4'\u001b[0m,\n",
      "                                 \u001b[0m'Management1'\u001b[0m]\u001b[0m,\n",
      "             \u001b[0m'model'\u001b[0m: \u001b[0m'vEOS'\u001b[0m,\n",
      "             \u001b[0m'os_version'\u001b[0m: \u001b[0m'4.15.5M-3054042.4155M'\u001b[0m,\n",
      "             \u001b[0m'serial_number'\u001b[0m: \u001b[0m''\u001b[0m,\n",
      "             \u001b[0m'uptime'\u001b[0m: \u001b[0m'...'\u001b[0m,\n",
      "             \u001b[0m'vendor'\u001b[0m: \u001b[0m'Arista'\u001b[0m}\u001b[0m}\u001b[0m\n",
      "\u001b[0m\u001b[1m\u001b[32m^^^^ END napalm_get ^^^^^^^^^^^^^^^^^^^^^^^^^^^^^^^^^^^^^^^^^^^^^^^^^^^^^^^^^^^^\u001b[0m\n",
      "\u001b[0m"
     ]
    }
   ],
   "source": [
    "with InitNornir(config_file=\"handling_connections/example2/config.yaml\") as nr:\n",
    "    rtr = nr.filter(name=\"rtr00\")\n",
    "    r = rtr.run(\n",
    "        task=napalm_get,\n",
    "        getters=[\"facts\"]\n",
    "    )  # connection will be opened here and stored with \"napalm\" key\n",
    "    # it will be re-used if another task uses napalm\n",
    "    print_result(r)\n",
    "# all opened connections are closed here, where context manager block is done"
   ]
  },
  {
   "cell_type": "markdown",
   "metadata": {},
   "source": [
    "Alternatively, you can close all connections explicitly:"
   ]
  },
  {
   "cell_type": "code",
   "execution_count": 5,
   "metadata": {},
   "outputs": [
    {
     "name": "stdout",
     "output_type": "stream",
     "text": [
      "\u001b[1m\u001b[36mnapalm_get**********************************************************************\u001b[0m\n",
      "\u001b[0m\u001b[1m\u001b[34m* rtr00 ** changed : False *****************************************************\u001b[0m\n",
      "\u001b[0m\u001b[1m\u001b[32mvvvv napalm_get ** changed : False vvvvvvvvvvvvvvvvvvvvvvvvvvvvvvvvvvvvvvvvvvvvv INFO\u001b[0m\n",
      "\u001b[0m{\u001b[0m \u001b[0m'facts'\u001b[0m: \u001b[0m{\u001b[0m \u001b[0m'fqdn'\u001b[0m: \u001b[0m'localhost'\u001b[0m,\n",
      "             \u001b[0m'hostname'\u001b[0m: \u001b[0m'localhost'\u001b[0m,\n",
      "             \u001b[0m'interface_list'\u001b[0m: \u001b[0m[\u001b[0m \u001b[0m\u001b[0m'Ethernet1'\u001b[0m,\n",
      "                                 \u001b[0m'Ethernet2'\u001b[0m,\n",
      "                                 \u001b[0m'Ethernet3'\u001b[0m,\n",
      "                                 \u001b[0m'Ethernet4'\u001b[0m,\n",
      "                                 \u001b[0m'Management1'\u001b[0m]\u001b[0m,\n",
      "             \u001b[0m'model'\u001b[0m: \u001b[0m'vEOS'\u001b[0m,\n",
      "             \u001b[0m'os_version'\u001b[0m: \u001b[0m'4.15.5M-3054042.4155M'\u001b[0m,\n",
      "             \u001b[0m'serial_number'\u001b[0m: \u001b[0m''\u001b[0m,\n",
      "             \u001b[0m'uptime'\u001b[0m: \u001b[0m'...'\u001b[0m,\n",
      "             \u001b[0m'vendor'\u001b[0m: \u001b[0m'Arista'\u001b[0m}\u001b[0m}\u001b[0m\n",
      "\u001b[0m\u001b[1m\u001b[32m^^^^ END napalm_get ^^^^^^^^^^^^^^^^^^^^^^^^^^^^^^^^^^^^^^^^^^^^^^^^^^^^^^^^^^^^\u001b[0m\n",
      "\u001b[0m"
     ]
    }
   ],
   "source": [
    "nr = InitNornir(config_file=\"handling_connections/example2/config.yaml\")\n",
    "rtr = nr.filter(name=\"rtr00\")\n",
    "r = rtr.run(\n",
    "    task=napalm_get,\n",
    "    getters=[\"facts\"]\n",
    ")  # connection will be opened here and stored with \"napalm\" key\n",
    "# it will be re-used if another tasks use napalm\n",
    "print_result(r)\n",
    "nr.close_connections()  # all opened connections are closed here explicitly"
   ]
  },
  {
   "cell_type": "markdown",
   "metadata": {},
   "source": [
    "### What if I need several connections using the same plugin which was discussed above?  "
   ]
  },
  {
   "cell_type": "code",
   "execution_count": 6,
   "metadata": {},
   "outputs": [
    {
     "name": "stdout",
     "output_type": "stream",
     "text": [
      "\u001b[1m\u001b[36mnapalm_get**********************************************************************\u001b[0m\n",
      "\u001b[0m\u001b[1m\u001b[34m* rtr00 ** changed : False *****************************************************\u001b[0m\n",
      "\u001b[0m\u001b[1m\u001b[32mvvvv napalm_get ** changed : False vvvvvvvvvvvvvvvvvvvvvvvvvvvvvvvvvvvvvvvvvvvvv INFO\u001b[0m\n",
      "\u001b[0m{\u001b[0m \u001b[0m'facts'\u001b[0m: \u001b[0m{\u001b[0m \u001b[0m'fqdn'\u001b[0m: \u001b[0m'localhost'\u001b[0m,\n",
      "             \u001b[0m'hostname'\u001b[0m: \u001b[0m'localhost'\u001b[0m,\n",
      "             \u001b[0m'interface_list'\u001b[0m: \u001b[0m[\u001b[0m \u001b[0m\u001b[0m'Ethernet1'\u001b[0m,\n",
      "                                 \u001b[0m'Ethernet2'\u001b[0m,\n",
      "                                 \u001b[0m'Ethernet3'\u001b[0m,\n",
      "                                 \u001b[0m'Ethernet4'\u001b[0m,\n",
      "                                 \u001b[0m'Management1'\u001b[0m]\u001b[0m,\n",
      "             \u001b[0m'model'\u001b[0m: \u001b[0m'vEOS'\u001b[0m,\n",
      "             \u001b[0m'os_version'\u001b[0m: \u001b[0m'4.15.5M-3054042.4155M'\u001b[0m,\n",
      "             \u001b[0m'serial_number'\u001b[0m: \u001b[0m''\u001b[0m,\n",
      "             \u001b[0m'uptime'\u001b[0m: \u001b[0m'...'\u001b[0m,\n",
      "             \u001b[0m'vendor'\u001b[0m: \u001b[0m'Arista'\u001b[0m}\u001b[0m}\u001b[0m\n",
      "\u001b[0m\u001b[1m\u001b[32m^^^^ END napalm_get ^^^^^^^^^^^^^^^^^^^^^^^^^^^^^^^^^^^^^^^^^^^^^^^^^^^^^^^^^^^^\u001b[0m\n",
      "\u001b[0m"
     ]
    }
   ],
   "source": [
    "with InitNornir(config_file=\"handling_connections/example2/config.yaml\") as nr:\n",
    "    rtr = nr.filter(name=\"rtr00\")\n",
    "    r = rtr.run(\n",
    "        task=napalm_get,\n",
    "        conn_name=\"secondary\",  # conn_name is specified\n",
    "        getters=[\"facts\"]\n",
    "    )  # connection will be opened here and stored with \"secondary\" key\n",
    "    # it will be re-used if another task uses connection \"secondary\"\n",
    "    print_result(r)\n",
    "# all opened connections are closed here"
   ]
  },
  {
   "cell_type": "markdown",
   "metadata": {},
   "source": [
    "## Manual connection handling\n",
    "\n",
    "In some circumstances, you may want to manage connections manually.  \n",
    "To do so you can use \n",
    "[open_connection](../ref/api/inventory.rst#nornir.core.inventory.Host.open_connection), [close_connection](../ref/api/inventory.rst#nornir.core.inventory.Host.close_connection), [close_connections](../ref/api/inventory.rst#nornir.core.inventory.Host.close_connections) and [Nornir.close_connections](../ref/api/nornir.rst#nornir.core.Nornir.close_connections). For instance:"
   ]
  },
  {
   "cell_type": "code",
   "execution_count": 7,
   "metadata": {},
   "outputs": [
    {
     "name": "stdout",
     "output_type": "stream",
     "text": [
      "\u001b[1m\u001b[36mtask_manages_connection_manually************************************************\u001b[0m\n",
      "\u001b[0m\u001b[1m\u001b[34m* rtr00 ** changed : False *****************************************************\u001b[0m\n",
      "\u001b[0m\u001b[1m\u001b[32mvvvv task_manages_connection_manually ** changed : False vvvvvvvvvvvvvvvvvvvvvvv INFO\u001b[0m\n",
      "\u001b[0m\u001b[1m\u001b[32m---- napalm_get ** changed : False --------------------------------------------- INFO\u001b[0m\n",
      "\u001b[0m{\u001b[0m \u001b[0m'facts'\u001b[0m: \u001b[0m{\u001b[0m \u001b[0m'fqdn'\u001b[0m: \u001b[0m'localhost'\u001b[0m,\n",
      "             \u001b[0m'hostname'\u001b[0m: \u001b[0m'localhost'\u001b[0m,\n",
      "             \u001b[0m'interface_list'\u001b[0m: \u001b[0m[\u001b[0m \u001b[0m\u001b[0m'Ethernet1'\u001b[0m,\n",
      "                                 \u001b[0m'Ethernet2'\u001b[0m,\n",
      "                                 \u001b[0m'Ethernet3'\u001b[0m,\n",
      "                                 \u001b[0m'Ethernet4'\u001b[0m,\n",
      "                                 \u001b[0m'Management1'\u001b[0m]\u001b[0m,\n",
      "             \u001b[0m'model'\u001b[0m: \u001b[0m'vEOS'\u001b[0m,\n",
      "             \u001b[0m'os_version'\u001b[0m: \u001b[0m'4.15.5M-3054042.4155M'\u001b[0m,\n",
      "             \u001b[0m'serial_number'\u001b[0m: \u001b[0m''\u001b[0m,\n",
      "             \u001b[0m'uptime'\u001b[0m: \u001b[0m'...'\u001b[0m,\n",
      "             \u001b[0m'vendor'\u001b[0m: \u001b[0m'Arista'\u001b[0m}\u001b[0m}\u001b[0m\n",
      "\u001b[0m\u001b[1m\u001b[32m^^^^ END task_manages_connection_manually ^^^^^^^^^^^^^^^^^^^^^^^^^^^^^^^^^^^^^^\u001b[0m\n",
      "\u001b[0m"
     ]
    }
   ],
   "source": [
    "def task_manages_connection_manually(task):\n",
    "    task.host.open_connection(\"napalm\")\n",
    "    r = task.run(\n",
    "        task=napalm_get,\n",
    "        getters=[\"facts\"]\n",
    "    )\n",
    "    task.host.close_connection(\"napalm\")\n",
    "    \n",
    "nr = InitNornir(config_file=\"handling_connections/example2/config.yaml\")\n",
    "rtr = nr.filter(name=\"rtr00\")\n",
    "r = rtr.run(\n",
    "    task=task_manages_connection_manually,\n",
    ")\n",
    "print_result(r)"
   ]
  },
  {
   "cell_type": "markdown",
   "metadata": {},
   "source": [
    "or when you need two connections using the same plugin:"
   ]
  },
  {
   "cell_type": "code",
   "execution_count": 8,
   "metadata": {},
   "outputs": [
    {
     "name": "stdout",
     "output_type": "stream",
     "text": [
      "\u001b[1m\u001b[36mtask_manages_multiple_connections_manually**************************************\u001b[0m\n",
      "\u001b[0m\u001b[1m\u001b[34m* rtr00 ** changed : False *****************************************************\u001b[0m\n",
      "\u001b[0m\u001b[1m\u001b[32mvvvv task_manages_multiple_connections_manually ** changed : False vvvvvvvvvvvvv INFO\u001b[0m\n",
      "\u001b[0m\u001b[1m\u001b[32m---- napalm_get ** changed : False --------------------------------------------- INFO\u001b[0m\n",
      "\u001b[0m{\u001b[0m \u001b[0m'facts'\u001b[0m: \u001b[0m{\u001b[0m \u001b[0m'fqdn'\u001b[0m: \u001b[0m'localhost'\u001b[0m,\n",
      "             \u001b[0m'hostname'\u001b[0m: \u001b[0m'localhost'\u001b[0m,\n",
      "             \u001b[0m'interface_list'\u001b[0m: \u001b[0m[\u001b[0m \u001b[0m\u001b[0m'Ethernet1'\u001b[0m,\n",
      "                                 \u001b[0m'Ethernet2'\u001b[0m,\n",
      "                                 \u001b[0m'Ethernet3'\u001b[0m,\n",
      "                                 \u001b[0m'Ethernet4'\u001b[0m,\n",
      "                                 \u001b[0m'Management1'\u001b[0m]\u001b[0m,\n",
      "             \u001b[0m'model'\u001b[0m: \u001b[0m'vEOS'\u001b[0m,\n",
      "             \u001b[0m'os_version'\u001b[0m: \u001b[0m'4.15.5M-3054042.4155M'\u001b[0m,\n",
      "             \u001b[0m'serial_number'\u001b[0m: \u001b[0m''\u001b[0m,\n",
      "             \u001b[0m'uptime'\u001b[0m: \u001b[0m'...'\u001b[0m,\n",
      "             \u001b[0m'vendor'\u001b[0m: \u001b[0m'Arista'\u001b[0m}\u001b[0m}\u001b[0m\n",
      "\u001b[0m\u001b[1m\u001b[32m---- napalm_get ** changed : False --------------------------------------------- INFO\u001b[0m\n",
      "\u001b[0m{\u001b[0m \u001b[0m'facts'\u001b[0m: \u001b[0m{\u001b[0m \u001b[0m'fqdn'\u001b[0m: \u001b[0m'localhost'\u001b[0m,\n",
      "             \u001b[0m'hostname'\u001b[0m: \u001b[0m'localhost'\u001b[0m,\n",
      "             \u001b[0m'interface_list'\u001b[0m: \u001b[0m[\u001b[0m \u001b[0m\u001b[0m'Ethernet1'\u001b[0m,\n",
      "                                 \u001b[0m'Ethernet2'\u001b[0m,\n",
      "                                 \u001b[0m'Ethernet3'\u001b[0m,\n",
      "                                 \u001b[0m'Ethernet4'\u001b[0m,\n",
      "                                 \u001b[0m'Management1'\u001b[0m]\u001b[0m,\n",
      "             \u001b[0m'model'\u001b[0m: \u001b[0m'vEOS'\u001b[0m,\n",
      "             \u001b[0m'os_version'\u001b[0m: \u001b[0m'4.15.5M-3054042.4155M'\u001b[0m,\n",
      "             \u001b[0m'serial_number'\u001b[0m: \u001b[0m''\u001b[0m,\n",
      "             \u001b[0m'uptime'\u001b[0m: \u001b[0m'...'\u001b[0m,\n",
      "             \u001b[0m'vendor'\u001b[0m: \u001b[0m'Arista'\u001b[0m}\u001b[0m}\u001b[0m\n",
      "\u001b[0m\u001b[1m\u001b[32m^^^^ END task_manages_multiple_connections_manually ^^^^^^^^^^^^^^^^^^^^^^^^^^^^\u001b[0m\n",
      "\u001b[0m"
     ]
    }
   ],
   "source": [
    "def task_manages_multiple_connections_manually(task):\n",
    "    task.host.open_connection(\"napalm\")\n",
    "    task.host.open_connection(\"secondary\", plugin=\"napalm\")\n",
    "    r1 = task.run(\n",
    "        task=napalm_get,\n",
    "        getters=[\"facts\"]\n",
    "    )\n",
    "    r2 = task.run(\n",
    "        task=napalm_get,\n",
    "        conn_name=\"secondary\",\n",
    "        getters=[\"facts\"]\n",
    "    )\n",
    "    task.host.close_connection(\"secondary\")\n",
    "    task.host.close_connection(\"napalm\")\n",
    "    \n",
    "nr = InitNornir(config_file=\"handling_connections/example2/config.yaml\")\n",
    "rtr = nr.filter(name=\"rtr00\")\n",
    "r = rtr.run(\n",
    "    task=task_manages_multiple_connections_manually,\n",
    ")\n",
    "print_result(r)"
   ]
  },
  {
   "cell_type": "code",
   "execution_count": null,
   "metadata": {},
   "outputs": [],
   "source": []
  }
 ],
 "metadata": {
  "kernelspec": {
   "display_name": "Python 3",
   "language": "python",
   "name": "python3"
  },
  "language_info": {
   "codemirror_mode": {
    "name": "ipython",
    "version": 3
   },
   "file_extension": ".py",
   "mimetype": "text/x-python",
   "name": "python",
   "nbconvert_exporter": "python",
   "pygments_lexer": "ipython3",
   "version": "3.6.5"
  }
 },
 "nbformat": 4,
 "nbformat_minor": 2
}
