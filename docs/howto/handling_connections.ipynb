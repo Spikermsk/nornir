{
 "cells": [
  {
   "cell_type": "markdown",
   "metadata": {},
   "source": [
    "# How to handle connections to devices"
   ]
  },
  {
   "cell_type": "markdown",
   "metadata": {},
   "source": [
    "## Connection options\n",
    "By default, connections are handled automatically based on the information in the inventory.\n",
    "Here is an example of *hosts.yaml* with simple and advanced connection details:"
   ]
  },
  {
   "cell_type": "code",
   "execution_count": 1,
   "metadata": {},
   "outputs": [
    {
     "data": {
      "text/markdown": [
       "```yaml\n",
       "simple_host:\n",
       "    hostname: simple-host.my-lab.com\n",
       "    username: simple-user\n",
       "    password: simple-password\n",
       "    platform: cisco_ios\n",
       "\n",
       "advanced_host:\n",
       "    # standard parameters that will be re-used across different connections\n",
       "    hostname: advanced-host.my-lab.com\n",
       "    username: my_user\n",
       "    password: my_password\n",
       "    platform: linux\n",
       "    connection_options:\n",
       "        napalm:\n",
       "          # standard parameters override upper level and will be used only for the napalm connection\n",
       "          port: 443\n",
       "          platform: eos\n",
       "          extras:\n",
       "              # non-standard library-specific options (check backend library docs)\n",
       "              optional_args:\n",
       "                  eos_autoComplete: true\n",
       "        netmiko:\n",
       "            platform: arista_eos\n",
       "            extras:\n",
       "                secret: \"my-enable-password\"\n",
       "                global_delay_factor: 2\n",
       "        netmiko_telnet:  # non-default connection name\n",
       "            # terminal server details\n",
       "            hostname: 1.2.3.4\n",
       "            port: 3001\n",
       "            platform: arista_eos_telnet\n",
       "```"
      ],
      "text/plain": [
       "<IPython.core.display.Markdown object>"
      ]
     },
     "metadata": {},
     "output_type": "display_data"
    }
   ],
   "source": [
    "# NBVAL_IGNORE_OUTPUT\n",
    "%run syntax_highlight_file.py handling_connections/example1/inventory/hosts.yaml yaml"
   ]
  },
  {
   "cell_type": "markdown",
   "metadata": {},
   "source": [
    "There are 5 reserved variable names that are used by Nornir for connection handling:\n",
    "    \n",
    "* **hostname**: hostname or IP address\n",
    "* **username**\n",
    "* **password**\n",
    "* **port**: if not specified, the default port chosen by the backend library will be used\n",
    "* **platform**: a connection plugin passes this value with a key supported by the backend library. For example, *netmiko* library uses *device_type*, so netmiko connection plugin will use platform value as device_type in netmiko. Refer to the backend library documentation to specify this parameter correctly.\n",
    "\n",
    "You can specify these parameters on the host level, but you can also override default parameters on the connection level, which should be specified under **connection_options -> &lt;connection-name&gt;**\n",
    "\n",
    "Let's consider connection options for *napalm*:  \n",
    "**platform** option was overwritten and is now *eos* instead of *linux*, and the **port** overrides the default.\n",
    "\n",
    "You can also specify non-standard library specific details under **extras**.\n",
    "For example, during connection establishment *NAPALM* accepts an argument *optional_args*, while *netmiko* accepts an extra option *global_delay_factor* and *secret*.\n",
    "\n",
    "The key name for the connection specific options is important and indicates **connection name**. In this example, we have *napalm*, *netmiko*, *netmiko_telnet*.\n",
    "\n",
    "Let's consider the first two and we will get back to the third one in a moment.\n",
    "As of this writing, Nornir has 3 connection-oriented plugins:\n",
    "\n",
    "* NAPALM with the default connection name **napalm**  \n",
    "* Netmiko with the default connection name **netmiko**  \n",
    "* Paramiko with the default connection name **paramiko**  \n",
    "\n",
    "The names can also be found inside each connection plugin class (`nornir/plugins/connections/` directory) with `name` attribute. These are default connection names which are needed to be used in the inventory if you would like to load these options automatically during the corresponding task execution.\n",
    "\n",
    "This means that you can have only one connection established per a single backend library. Most of the times it is enough, but there are situations when you may need to have multiple connections established using the same backend library.  \n",
    "For example, you would like to establish SSH and Telnet (via terminal server) connections using netmiko plugin. This is why you can specify arbitrary connection name as a key, e.g. **netmiko_telnet**.  \n",
    "\n",
    "When you want to establish a custom connection name, you need to specify it somehow during task execution.  \n",
    "This is done in `Nornir.run()` function with the **conn_name** argument.  \n",
    "For example: `nr.run(task=..., conn_name=\"netmiko_telnet\")` (see an example below)\n",
    "\n",
    "Let's see how the connections are handled in the code, first automatically, then manually.\n",
    "Here is the inventory used for the next examples:\n"
   ]
  },
  {
   "cell_type": "code",
   "execution_count": 2,
   "metadata": {},
   "outputs": [
    {
     "data": {
      "text/markdown": [
       "```yaml\n",
       "rtr00:\n",
       "    connection_options:\n",
       "        napalm:\n",
       "            platform: mock\n",
       "            extras:\n",
       "                optional_args:\n",
       "                    path: handling_connections/example2/mocked_data\n",
       "        napalm-secondary:  # non-default connection name\n",
       "            platform: mock\n",
       "            extras:\n",
       "                optional_args:\n",
       "                    path: handling_connections/example2/mocked_data\n",
       "```"
      ],
      "text/plain": [
       "<IPython.core.display.Markdown object>"
      ]
     },
     "metadata": {},
     "output_type": "display_data"
    }
   ],
   "source": [
    "# NBVAL_IGNORE_OUTPUT\n",
    "%run syntax_highlight_file.py handling_connections/example2/inventory/hosts.yaml yaml"
   ]
  },
  {
   "cell_type": "markdown",
   "metadata": {},
   "source": [
    "## Automatic connection handling"
   ]
  },
  {
   "cell_type": "markdown",
   "metadata": {},
   "source": [
    "Networking tasks open connections automatically. Nornir can close them for you automatically as well, but for that you need to use Python context manager (`with` statement) as shown below. At the end of `with` block all open connections will be automatically closed even if an exception occurred.  \n",
    "Using `with` statement is recommended."
   ]
  },
  {
   "cell_type": "markdown",
   "metadata": {},
   "source": [
    "#### Single connection"
   ]
  },
  {
   "cell_type": "code",
   "execution_count": 3,
   "metadata": {},
   "outputs": [],
   "source": [
    "from nornir import InitNornir\n",
    "from nornir.plugins.functions.text import print_result\n",
    "from nornir.plugins.tasks.networking import napalm_get"
   ]
  },
  {
   "cell_type": "code",
   "execution_count": 4,
   "metadata": {},
   "outputs": [
    {
     "name": "stdout",
     "output_type": "stream",
     "text": [
      "\u001b[1m\u001b[36mnapalm_get**********************************************************************\u001b[0m\n",
      "\u001b[0m\u001b[1m\u001b[34m* rtr00 ** changed : False *****************************************************\u001b[0m\n",
      "\u001b[0m\u001b[1m\u001b[32mvvvv napalm_get ** changed : False vvvvvvvvvvvvvvvvvvvvvvvvvvvvvvvvvvvvvvvvvvvvv INFO\u001b[0m\n",
      "\u001b[0m{\u001b[0m \u001b[0m'facts'\u001b[0m: \u001b[0m{\u001b[0m \u001b[0m'fqdn'\u001b[0m: \u001b[0m'localhost'\u001b[0m,\n",
      "             \u001b[0m'hostname'\u001b[0m: \u001b[0m'localhost'\u001b[0m,\n",
      "             \u001b[0m'interface_list'\u001b[0m: \u001b[0m[\u001b[0m \u001b[0m\u001b[0m'Ethernet1'\u001b[0m,\n",
      "                                 \u001b[0m'Ethernet2'\u001b[0m,\n",
      "                                 \u001b[0m'Ethernet3'\u001b[0m,\n",
      "                                 \u001b[0m'Ethernet4'\u001b[0m,\n",
      "                                 \u001b[0m'Management1'\u001b[0m]\u001b[0m,\n",
      "             \u001b[0m'model'\u001b[0m: \u001b[0m'vEOS'\u001b[0m,\n",
      "             \u001b[0m'os_version'\u001b[0m: \u001b[0m'4.15.5M-3054042.4155M'\u001b[0m,\n",
      "             \u001b[0m'serial_number'\u001b[0m: \u001b[0m''\u001b[0m,\n",
      "             \u001b[0m'uptime'\u001b[0m: \u001b[0m'...'\u001b[0m,\n",
      "             \u001b[0m'vendor'\u001b[0m: \u001b[0m'Arista'\u001b[0m}\u001b[0m}\u001b[0m\n",
      "\u001b[0m\u001b[1m\u001b[32m^^^^ END napalm_get ^^^^^^^^^^^^^^^^^^^^^^^^^^^^^^^^^^^^^^^^^^^^^^^^^^^^^^^^^^^^\u001b[0m\n",
      "\u001b[0mThe following connections are open before closing: ['napalm']\u001b[0m\n",
      "\u001b[0mThe following connections are open after closing: []\u001b[0m\n",
      "\u001b[0m"
     ]
    }
   ],
   "source": [
    "with InitNornir(config_file=\"handling_connections/example2/config.yaml\") as nr:\n",
    "    rtr = nr.filter(name=\"rtr00\")\n",
    "    r = rtr.run(\n",
    "        task=napalm_get,\n",
    "        getters=[\"facts\"]\n",
    "    )  # connection will be opened here and stored with \"napalm\" key\n",
    "    # it will be re-used if another task uses napalm\n",
    "    print_result(r)\n",
    "    print(f\"The following connections are open before closing: {sorted(nr.inventory.hosts['rtr00'].connections.keys())}\")\n",
    "# all opened connections are closed here, where context manager block is done\n",
    "print(f\"The following connections are open after closing: {sorted(nr.inventory.hosts['rtr00'].connections.keys())}\")"
   ]
  },
  {
   "cell_type": "markdown",
   "metadata": {},
   "source": [
    "You can also close connections explicitly using `Nornir.close_connections()`:"
   ]
  },
  {
   "cell_type": "code",
   "execution_count": 5,
   "metadata": {},
   "outputs": [
    {
     "name": "stdout",
     "output_type": "stream",
     "text": [
      "\u001b[1m\u001b[36mnapalm_get**********************************************************************\u001b[0m\n",
      "\u001b[0m\u001b[1m\u001b[34m* rtr00 ** changed : False *****************************************************\u001b[0m\n",
      "\u001b[0m\u001b[1m\u001b[32mvvvv napalm_get ** changed : False vvvvvvvvvvvvvvvvvvvvvvvvvvvvvvvvvvvvvvvvvvvvv INFO\u001b[0m\n",
      "\u001b[0m{\u001b[0m \u001b[0m'facts'\u001b[0m: \u001b[0m{\u001b[0m \u001b[0m'fqdn'\u001b[0m: \u001b[0m'localhost'\u001b[0m,\n",
      "             \u001b[0m'hostname'\u001b[0m: \u001b[0m'localhost'\u001b[0m,\n",
      "             \u001b[0m'interface_list'\u001b[0m: \u001b[0m[\u001b[0m \u001b[0m\u001b[0m'Ethernet1'\u001b[0m,\n",
      "                                 \u001b[0m'Ethernet2'\u001b[0m,\n",
      "                                 \u001b[0m'Ethernet3'\u001b[0m,\n",
      "                                 \u001b[0m'Ethernet4'\u001b[0m,\n",
      "                                 \u001b[0m'Management1'\u001b[0m]\u001b[0m,\n",
      "             \u001b[0m'model'\u001b[0m: \u001b[0m'vEOS'\u001b[0m,\n",
      "             \u001b[0m'os_version'\u001b[0m: \u001b[0m'4.15.5M-3054042.4155M'\u001b[0m,\n",
      "             \u001b[0m'serial_number'\u001b[0m: \u001b[0m''\u001b[0m,\n",
      "             \u001b[0m'uptime'\u001b[0m: \u001b[0m'...'\u001b[0m,\n",
      "             \u001b[0m'vendor'\u001b[0m: \u001b[0m'Arista'\u001b[0m}\u001b[0m}\u001b[0m\n",
      "\u001b[0m\u001b[1m\u001b[32m^^^^ END napalm_get ^^^^^^^^^^^^^^^^^^^^^^^^^^^^^^^^^^^^^^^^^^^^^^^^^^^^^^^^^^^^\u001b[0m\n",
      "\u001b[0mThe following connections are open before closing: ['napalm']\u001b[0m\n",
      "\u001b[0mThe following connections are open after closing: []\u001b[0m\n",
      "\u001b[0m"
     ]
    }
   ],
   "source": [
    "nr = InitNornir(config_file=\"handling_connections/example2/config.yaml\")\n",
    "rtr = nr.filter(name=\"rtr00\")\n",
    "r = rtr.run(\n",
    "    task=napalm_get,\n",
    "    getters=[\"facts\"]\n",
    ")  # connection will be opened here and stored with \"napalm\" key\n",
    "# it will be re-used if another tasks use napalm\n",
    "print_result(r)\n",
    "print(f\"The following connections are open before closing: {sorted(nr.inventory.hosts['rtr00'].connections.keys())}\")\n",
    "nr.close_connections()  # all opened connections are closed here explicitly\n",
    "print(f\"The following connections are open after closing: {sorted(nr.inventory.hosts['rtr00'].connections.keys())}\")"
   ]
  },
  {
   "cell_type": "markdown",
   "metadata": {},
   "source": [
    "#### Several connections using the same plugin"
   ]
  },
  {
   "cell_type": "code",
   "execution_count": 6,
   "metadata": {},
   "outputs": [
    {
     "name": "stdout",
     "output_type": "stream",
     "text": [
      "\u001b[1m\u001b[36mnapalm_get**********************************************************************\u001b[0m\n",
      "\u001b[0m\u001b[1m\u001b[34m* rtr00 ** changed : False *****************************************************\u001b[0m\n",
      "\u001b[0m\u001b[1m\u001b[32mvvvv napalm_get ** changed : False vvvvvvvvvvvvvvvvvvvvvvvvvvvvvvvvvvvvvvvvvvvvv INFO\u001b[0m\n",
      "\u001b[0m{\u001b[0m \u001b[0m'facts'\u001b[0m: \u001b[0m{\u001b[0m \u001b[0m'fqdn'\u001b[0m: \u001b[0m'localhost'\u001b[0m,\n",
      "             \u001b[0m'hostname'\u001b[0m: \u001b[0m'localhost'\u001b[0m,\n",
      "             \u001b[0m'interface_list'\u001b[0m: \u001b[0m[\u001b[0m \u001b[0m\u001b[0m'Ethernet1'\u001b[0m,\n",
      "                                 \u001b[0m'Ethernet2'\u001b[0m,\n",
      "                                 \u001b[0m'Ethernet3'\u001b[0m,\n",
      "                                 \u001b[0m'Ethernet4'\u001b[0m,\n",
      "                                 \u001b[0m'Management1'\u001b[0m]\u001b[0m,\n",
      "             \u001b[0m'model'\u001b[0m: \u001b[0m'vEOS'\u001b[0m,\n",
      "             \u001b[0m'os_version'\u001b[0m: \u001b[0m'4.15.5M-3054042.4155M'\u001b[0m,\n",
      "             \u001b[0m'serial_number'\u001b[0m: \u001b[0m''\u001b[0m,\n",
      "             \u001b[0m'uptime'\u001b[0m: \u001b[0m'...'\u001b[0m,\n",
      "             \u001b[0m'vendor'\u001b[0m: \u001b[0m'Arista'\u001b[0m}\u001b[0m}\u001b[0m\n",
      "\u001b[0m\u001b[1m\u001b[32m^^^^ END napalm_get ^^^^^^^^^^^^^^^^^^^^^^^^^^^^^^^^^^^^^^^^^^^^^^^^^^^^^^^^^^^^\u001b[0m\n",
      "\u001b[0m\u001b[1m\u001b[36mnapalm_get**********************************************************************\u001b[0m\n",
      "\u001b[0m\u001b[1m\u001b[34m* rtr00 ** changed : False *****************************************************\u001b[0m\n",
      "\u001b[0m\u001b[1m\u001b[32mvvvv napalm_get ** changed : False vvvvvvvvvvvvvvvvvvvvvvvvvvvvvvvvvvvvvvvvvvvvv INFO\u001b[0m\n",
      "\u001b[0m{\u001b[0m \u001b[0m'facts'\u001b[0m: \u001b[0m{\u001b[0m \u001b[0m'fqdn'\u001b[0m: \u001b[0m'localhost'\u001b[0m,\n",
      "             \u001b[0m'hostname'\u001b[0m: \u001b[0m'localhost'\u001b[0m,\n",
      "             \u001b[0m'interface_list'\u001b[0m: \u001b[0m[\u001b[0m \u001b[0m\u001b[0m'Ethernet1'\u001b[0m,\n",
      "                                 \u001b[0m'Ethernet2'\u001b[0m,\n",
      "                                 \u001b[0m'Ethernet3'\u001b[0m,\n",
      "                                 \u001b[0m'Ethernet4'\u001b[0m,\n",
      "                                 \u001b[0m'Management1'\u001b[0m]\u001b[0m,\n",
      "             \u001b[0m'model'\u001b[0m: \u001b[0m'vEOS'\u001b[0m,\n",
      "             \u001b[0m'os_version'\u001b[0m: \u001b[0m'4.15.5M-3054042.4155M'\u001b[0m,\n",
      "             \u001b[0m'serial_number'\u001b[0m: \u001b[0m''\u001b[0m,\n",
      "             \u001b[0m'uptime'\u001b[0m: \u001b[0m'...'\u001b[0m,\n",
      "             \u001b[0m'vendor'\u001b[0m: \u001b[0m'Arista'\u001b[0m}\u001b[0m}\u001b[0m\n",
      "\u001b[0m\u001b[1m\u001b[32m^^^^ END napalm_get ^^^^^^^^^^^^^^^^^^^^^^^^^^^^^^^^^^^^^^^^^^^^^^^^^^^^^^^^^^^^\u001b[0m\n",
      "\u001b[0mThe following connections are open before closing: ['napalm', 'napalm-secondary']\u001b[0m\n",
      "\u001b[0mThe following connections are open after closing: []\u001b[0m\n",
      "\u001b[0m"
     ]
    }
   ],
   "source": [
    "with InitNornir(config_file=\"handling_connections/example2/config.yaml\") as nr:\n",
    "    rtr = nr.filter(name=\"rtr00\")\n",
    "    r1 = rtr.run(\n",
    "        task=napalm_get,\n",
    "        getters=[\"facts\"]\n",
    "    )  # connection will be opened here and stored with \"napalm\" key\n",
    "    # it will be re-used if another task uses connection \"napalm\"    \n",
    "    print_result(r1)\n",
    "    r2 = rtr.run(\n",
    "        task=napalm_get,\n",
    "        conn_name=\"napalm-secondary\",  # conn_name is specified\n",
    "        getters=[\"facts\"]\n",
    "    )  # connection will be opened here and stored with \"secondary\" key\n",
    "    # it will be re-used if another task uses connection \"secondary\"\n",
    "    print_result(r2)\n",
    "    print(f\"The following connections are open before closing: {sorted(nr.inventory.hosts['rtr00'].connections.keys())}\")\n",
    "# all opened connections are closed here\n",
    "print(f\"The following connections are open after closing: {sorted(nr.inventory.hosts['rtr00'].connections.keys())}\")\n"
   ]
  },
  {
   "cell_type": "markdown",
   "metadata": {},
   "source": [
    "## Manual connection handling \n",
    "\n",
    "In some circumstances, you may want to manage connections manually.  \n",
    "The following functions can help you with that: \n",
    "[open_connection](../ref/api/inventory.rst#nornir.core.inventory.Host.open_connection), [close_connection](../ref/api/inventory.rst#nornir.core.inventory.Host.close_connection), [close_connections](../ref/api/inventory.rst#nornir.core.inventory.Host.close_connections) and [Nornir.close_connections](../ref/api/nornir.rst#nornir.core.Nornir.close_connections).\n",
    "\n",
    "If you choose to handle connections manually, it is also advised to use the argument `autoconnect=False` in the task run. Otherwise, nornir will try opening a connection if one isn't open already during task execution."
   ]
  },
  {
   "cell_type": "markdown",
   "metadata": {},
   "source": [
    "#### Manual handling of a single connection"
   ]
  },
  {
   "cell_type": "code",
   "execution_count": 7,
   "metadata": {},
   "outputs": [
    {
     "name": "stdout",
     "output_type": "stream",
     "text": [
      "The following connections are open before running the task: ['napalm']\u001b[0m\n",
      "\u001b[0mThe following connections are open before closing: ['napalm']\u001b[0m\n",
      "\u001b[0mThe following connections are open after closing: []\u001b[0m\n",
      "\u001b[0m\u001b[1m\u001b[36mtask_manages_connection_manually************************************************\u001b[0m\n",
      "\u001b[0m\u001b[1m\u001b[34m* rtr00 ** changed : False *****************************************************\u001b[0m\n",
      "\u001b[0m\u001b[1m\u001b[32mvvvv task_manages_connection_manually ** changed : False vvvvvvvvvvvvvvvvvvvvvvv INFO\u001b[0m\n",
      "\u001b[0m\u001b[1m\u001b[32m---- napalm_get ** changed : False --------------------------------------------- INFO\u001b[0m\n",
      "\u001b[0m{\u001b[0m \u001b[0m'facts'\u001b[0m: \u001b[0m{\u001b[0m \u001b[0m'fqdn'\u001b[0m: \u001b[0m'localhost'\u001b[0m,\n",
      "             \u001b[0m'hostname'\u001b[0m: \u001b[0m'localhost'\u001b[0m,\n",
      "             \u001b[0m'interface_list'\u001b[0m: \u001b[0m[\u001b[0m \u001b[0m\u001b[0m'Ethernet1'\u001b[0m,\n",
      "                                 \u001b[0m'Ethernet2'\u001b[0m,\n",
      "                                 \u001b[0m'Ethernet3'\u001b[0m,\n",
      "                                 \u001b[0m'Ethernet4'\u001b[0m,\n",
      "                                 \u001b[0m'Management1'\u001b[0m]\u001b[0m,\n",
      "             \u001b[0m'model'\u001b[0m: \u001b[0m'vEOS'\u001b[0m,\n",
      "             \u001b[0m'os_version'\u001b[0m: \u001b[0m'4.15.5M-3054042.4155M'\u001b[0m,\n",
      "             \u001b[0m'serial_number'\u001b[0m: \u001b[0m''\u001b[0m,\n",
      "             \u001b[0m'uptime'\u001b[0m: \u001b[0m'...'\u001b[0m,\n",
      "             \u001b[0m'vendor'\u001b[0m: \u001b[0m'Arista'\u001b[0m}\u001b[0m}\u001b[0m\n",
      "\u001b[0m\u001b[1m\u001b[32m^^^^ END task_manages_connection_manually ^^^^^^^^^^^^^^^^^^^^^^^^^^^^^^^^^^^^^^\u001b[0m\n",
      "\u001b[0m"
     ]
    }
   ],
   "source": [
    "def task_manages_connection_manually(task):\n",
    "    task.host.open_connection(\"napalm\", configuration=task.nornir.config)\n",
    "    print(f\"The following connections are open before running the task: {sorted(task.host.connections.keys())}\")\n",
    "    r = task.run(\n",
    "        task=napalm_get,\n",
    "        getters=[\"facts\"],\n",
    "        autoconnect=False,  # don't try opening the connection automatically\n",
    "    )\n",
    "    print(f\"The following connections are open before closing: {sorted(task.host.connections.keys())}\")\n",
    "    task.host.close_connection(\"napalm\")\n",
    "    print(f\"The following connections are open after closing: {sorted(task.host.connections.keys())}\")\n",
    "    \n",
    "nr = InitNornir(config_file=\"handling_connections/example2/config.yaml\")\n",
    "rtr = nr.filter(name=\"rtr00\")\n",
    "r = rtr.run(\n",
    "    task=task_manages_connection_manually,\n",
    ")\n",
    "print_result(r)"
   ]
  },
  {
   "cell_type": "markdown",
   "metadata": {},
   "source": [
    "#### Manual handling of multiple connections using the same plugin"
   ]
  },
  {
   "cell_type": "code",
   "execution_count": 8,
   "metadata": {},
   "outputs": [
    {
     "name": "stdout",
     "output_type": "stream",
     "text": [
      "The following connections are open before running tasks: ['napalm', 'napalm-secondary']\u001b[0m\n",
      "\u001b[0mThe following connections are open after closing: []\u001b[0m\n",
      "\u001b[0m\u001b[1m\u001b[36mtask_manages_multiple_connections_manually**************************************\u001b[0m\n",
      "\u001b[0m\u001b[1m\u001b[34m* rtr00 ** changed : False *****************************************************\u001b[0m\n",
      "\u001b[0m\u001b[1m\u001b[32mvvvv task_manages_multiple_connections_manually ** changed : False vvvvvvvvvvvvv INFO\u001b[0m\n",
      "\u001b[0m\u001b[1m\u001b[32m---- napalm_get ** changed : False --------------------------------------------- INFO\u001b[0m\n",
      "\u001b[0m{\u001b[0m \u001b[0m'facts'\u001b[0m: \u001b[0m{\u001b[0m \u001b[0m'fqdn'\u001b[0m: \u001b[0m'localhost'\u001b[0m,\n",
      "             \u001b[0m'hostname'\u001b[0m: \u001b[0m'localhost'\u001b[0m,\n",
      "             \u001b[0m'interface_list'\u001b[0m: \u001b[0m[\u001b[0m \u001b[0m\u001b[0m'Ethernet1'\u001b[0m,\n",
      "                                 \u001b[0m'Ethernet2'\u001b[0m,\n",
      "                                 \u001b[0m'Ethernet3'\u001b[0m,\n",
      "                                 \u001b[0m'Ethernet4'\u001b[0m,\n",
      "                                 \u001b[0m'Management1'\u001b[0m]\u001b[0m,\n",
      "             \u001b[0m'model'\u001b[0m: \u001b[0m'vEOS'\u001b[0m,\n",
      "             \u001b[0m'os_version'\u001b[0m: \u001b[0m'4.15.5M-3054042.4155M'\u001b[0m,\n",
      "             \u001b[0m'serial_number'\u001b[0m: \u001b[0m''\u001b[0m,\n",
      "             \u001b[0m'uptime'\u001b[0m: \u001b[0m'...'\u001b[0m,\n",
      "             \u001b[0m'vendor'\u001b[0m: \u001b[0m'Arista'\u001b[0m}\u001b[0m}\u001b[0m\n",
      "\u001b[0m\u001b[1m\u001b[32m---- napalm_get ** changed : False --------------------------------------------- INFO\u001b[0m\n",
      "\u001b[0m{\u001b[0m \u001b[0m'facts'\u001b[0m: \u001b[0m{\u001b[0m \u001b[0m'fqdn'\u001b[0m: \u001b[0m'localhost'\u001b[0m,\n",
      "             \u001b[0m'hostname'\u001b[0m: \u001b[0m'localhost'\u001b[0m,\n",
      "             \u001b[0m'interface_list'\u001b[0m: \u001b[0m[\u001b[0m \u001b[0m\u001b[0m'Ethernet1'\u001b[0m,\n",
      "                                 \u001b[0m'Ethernet2'\u001b[0m,\n",
      "                                 \u001b[0m'Ethernet3'\u001b[0m,\n",
      "                                 \u001b[0m'Ethernet4'\u001b[0m,\n",
      "                                 \u001b[0m'Management1'\u001b[0m]\u001b[0m,\n",
      "             \u001b[0m'model'\u001b[0m: \u001b[0m'vEOS'\u001b[0m,\n",
      "             \u001b[0m'os_version'\u001b[0m: \u001b[0m'4.15.5M-3054042.4155M'\u001b[0m,\n",
      "             \u001b[0m'serial_number'\u001b[0m: \u001b[0m''\u001b[0m,\n",
      "             \u001b[0m'uptime'\u001b[0m: \u001b[0m'...'\u001b[0m,\n",
      "             \u001b[0m'vendor'\u001b[0m: \u001b[0m'Arista'\u001b[0m}\u001b[0m}\u001b[0m\n",
      "\u001b[0m\u001b[1m\u001b[32m^^^^ END task_manages_multiple_connections_manually ^^^^^^^^^^^^^^^^^^^^^^^^^^^^\u001b[0m\n",
      "\u001b[0m"
     ]
    }
   ],
   "source": [
    "def task_manages_multiple_connections_manually(task):\n",
    "    task.host.open_connection(\"napalm\", task.nornir.config)\n",
    "    task.host.open_connection(\"napalm-secondary\", task.nornir.config, plugin_name=\"napalm\")\n",
    "    print(f\"The following connections are open before running tasks: {sorted(task.host.connections.keys())}\")\n",
    "    r1 = task.run(\n",
    "        task=napalm_get,\n",
    "        getters=[\"facts\"]\n",
    "    )\n",
    "    r2 = task.run(\n",
    "        task=napalm_get,\n",
    "        conn_name=\"napalm-secondary\",\n",
    "        getters=[\"facts\"]\n",
    "    )\n",
    "    task.host.close_connections()\n",
    "    print(f\"The following connections are open after closing: {sorted(task.host.connections.keys())}\")\n",
    "    \n",
    "nr = InitNornir(config_file=\"handling_connections/example2/config.yaml\")\n",
    "rtr = nr.filter(name=\"rtr00\")\n",
    "r = rtr.run(\n",
    "    task=task_manages_multiple_connections_manually,\n",
    ")\n",
    "print_result(r)"
   ]
  }
 ],
 "metadata": {
  "kernelspec": {
   "display_name": "Python 3",
   "language": "python",
   "name": "python3"
  },
  "language_info": {
   "codemirror_mode": {
    "name": "ipython",
    "version": 3
   },
   "file_extension": ".py",
   "mimetype": "text/x-python",
   "name": "python",
   "nbconvert_exporter": "python",
   "pygments_lexer": "ipython3",
   "version": "3.6.8"
  }
 },
 "nbformat": 4,
 "nbformat_minor": 2
}
